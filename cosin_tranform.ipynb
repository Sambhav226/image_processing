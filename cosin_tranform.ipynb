{
 "cells": [
  {
   "cell_type": "markdown",
   "metadata": {},
   "source": [
    "# Discrete Cosin Transform"
   ]
  },
  {
   "cell_type": "code",
   "execution_count": null,
   "metadata": {},
   "outputs": [],
   "source": [
    "import matplotlib.pyplot as plt\n",
    "import cv2\n",
    "import numpy as np\n",
    "from scipy.fftpack import dct, idct\n",
    "\n",
    "img = cv2.imread('images/BES.jpg',0)\n",
    "\n",
    "height, width = img.shape\n",
    "\n",
    "dct_avg_img = np.zeros([height, width], np.float32)\n"
   ]
  }
 ],
 "metadata": {
  "language_info": {
   "name": "python"
  }
 },
 "nbformat": 4,
 "nbformat_minor": 2
}
