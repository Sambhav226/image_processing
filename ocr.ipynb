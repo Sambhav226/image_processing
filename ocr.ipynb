{
 "cells": [
  {
   "cell_type": "code",
   "execution_count": null,
   "metadata": {},
   "outputs": [],
   "source": [
    "\n",
    "\"\"\"keras-ocr.ipynb\n",
    "\n",
    "Documentation:\n",
    "https://keras-ocr.readthedocs.io/en/latest/\n",
    "\n",
    "Based on: https://github.com/clovaai/CRAFT-pytorch\n",
    "\"\"\"\n",
    "\n",
    "# !pip install keras-ocr\n",
    "\n",
    "import keras_ocr\n",
    "from matplotlib import pyplot as plt\n",
    "\n",
    "# keras-ocr will automatically download pretrained\n",
    "# weights for the detector and recognizer.\n",
    "pipeline = keras_ocr.pipeline.Pipeline()\n",
    "\n",
    "# List of three example images\n",
    "images = [keras_ocr.tools.read(img) for img in ['/content/drive/My Drive/Colab Notebooks/data/billboard1.jpg',\n",
    "                                               '/content/drive/My Drive/Colab Notebooks/data/billboard2.jpg',\n",
    "                                                '/content/drive/My Drive/Colab Notebooks/data/handwritten.jpg'\n",
    "                                               ]\n",
    "]\n",
    "\n",
    "#Print shape...\n",
    "import numpy as np\n",
    "print(np.shape(images))\n",
    "\n",
    "# Each list of predictions in prediction_groups is a list of\n",
    "# (word, box) tuples.\n",
    "prediction_groups = pipeline.recognize(images)\n",
    "\n",
    "# Plot the predictions\n",
    "fig, axs = plt.subplots(nrows=len(images), figsize=(20, 20))\n",
    "for ax, image, predictions in zip(axs, images, prediction_groups):\n",
    "    keras_ocr.tools.drawAnnotations(image=image, predictions=predictions, ax=ax)"
   ]
  }
 ],
 "metadata": {
  "language_info": {
   "name": "python"
  }
 },
 "nbformat": 4,
 "nbformat_minor": 2
}
