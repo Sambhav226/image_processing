{
 "cells": [
  {
   "cell_type": "code",
   "execution_count": 1,
   "metadata": {},
   "outputs": [
    {
     "name": "stdout",
     "output_type": "stream",
     "text": [
      "(5120, 3415)\n"
     ]
    }
   ],
   "source": [
    "from PIL import Image\n",
    "\n",
    "img = Image.open(\"images/R1.jpg\")\n",
    "print(img.size)"
   ]
  },
  {
   "cell_type": "markdown",
   "metadata": {},
   "source": [
    "# Image Resizing"
   ]
  },
  {
   "cell_type": "code",
   "execution_count": 9,
   "metadata": {},
   "outputs": [
    {
     "name": "stdout",
     "output_type": "stream",
     "text": [
      "(200, 300)\n",
      "(200, 300)\n"
     ]
    }
   ],
   "source": [
    "# small_img = img.resize((200,300))\n",
    "# small_img.save(\"/Users/sambhav/Projects/image_processing/small_R1.jpg\")\n",
    "print(small_img.size) #-> it just resize and doesn't maintain the aspect ratio\n",
    "\n",
    "#thumbnail resize but maintains the aspect ratio rather than blowing up. (By taking width -> first value)\n",
    "img.thumbnail((300,100)) \n",
    "img.save(\"/Users/sambhav/Projects/image_processing/images/small_R1.jpg\")"
   ]
  },
  {
   "cell_type": "markdown",
   "metadata": {},
   "source": [
    "# Image cropping and copying \n"
   ]
  },
  {
   "cell_type": "code",
   "execution_count": 20,
   "metadata": {},
   "outputs": [
    {
     "name": "stdout",
     "output_type": "stream",
     "text": [
      "(5120, 3415)\n"
     ]
    }
   ],
   "source": [
    "from PIL import Image\n",
    "img1 = Image.open(\"images/R1.jpg\")\n",
    "print(img.size)\n",
    "cropped_img = img.crop((0,0,1080, 1100))\n",
    "cropped_img.save(\"/Users/sambhav/Projects/image_processing/images/cropped_R1.jpg\")\n"
   ]
  },
  {
   "cell_type": "code",
   "execution_count": 29,
   "metadata": {},
   "outputs": [
    {
     "name": "stdout",
     "output_type": "stream",
     "text": [
      "(5120, 3415)\n",
      "(1920, 1080)\n"
     ]
    }
   ],
   "source": [
    "img1 = Image.open(\"images/R1.jpg\")\n",
    "print(img1.size)\n",
    "img2 = Image.open(\"images/1739.jpg\")\n",
    "print(img2.size)\n",
    "img2.thumbnail((1440,1440))\n",
    "\n",
    "img1_copy = img1.copy()\n",
    "img1_copy.paste(img2, (50,50)) # -> first argument is to copy the image and second is where to paste\n",
    "img1_copy.save(\"images/copyed_R1.jpg\")"
   ]
  },
  {
   "cell_type": "markdown",
   "metadata": {},
   "source": [
    "# Image Rotation"
   ]
  },
  {
   "cell_type": "code",
   "execution_count": 31,
   "metadata": {},
   "outputs": [],
   "source": [
    "from PIL import Image\n",
    "\n",
    "img = Image.open(\"images/R1.jpg\")\n",
    "img_rotated = img.rotate(45, expand = True) #-> expand keeps the edges and not crop in\n",
    "img_rotated.save(\"images/rotated45.jpg\")"
   ]
  },
  {
   "cell_type": "markdown",
   "metadata": {},
   "source": [
    "# Fliping Image"
   ]
  },
  {
   "cell_type": "code",
   "execution_count": 32,
   "metadata": {},
   "outputs": [],
   "source": [
    "from PIL import Image\n",
    "\n",
    "img = Image.open(\"images/R1.jpg\")\n",
    "img_LR = img.transpose(Image.FLIP_LEFT_RIGHT)\n",
    "img_LR.save(\"images/LR_R1.jpg\")\n",
    "\n",
    "img_TB = img.transpose(Image.FLIP_TOP_BOTTOM)\n",
    "img_TB.save(\"images/TB_R1.jpg\")"
   ]
  },
  {
   "cell_type": "code",
   "execution_count": null,
   "metadata": {},
   "outputs": [],
   "source": []
  }
 ],
 "metadata": {
  "kernelspec": {
   "display_name": "Python 3",
   "language": "python",
   "name": "python3"
  },
  "language_info": {
   "codemirror_mode": {
    "name": "ipython",
    "version": 3
   },
   "file_extension": ".py",
   "mimetype": "text/x-python",
   "name": "python",
   "nbconvert_exporter": "python",
   "pygments_lexer": "ipython3",
   "version": "3.11.7"
  }
 },
 "nbformat": 4,
 "nbformat_minor": 2
}
