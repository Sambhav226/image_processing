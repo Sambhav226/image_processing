{
 "cells": [
  {
   "cell_type": "markdown",
   "metadata": {},
   "source": [
    "# Measuring image similarity "
   ]
  },
  {
   "cell_type": "code",
   "execution_count": 2,
   "metadata": {},
   "outputs": [
    {
     "ename": "AttributeError",
     "evalue": "'tuple' object has no attribute 'detectAndCompute'",
     "output_type": "error",
     "traceback": [
      "\u001b[0;31m---------------------------------------------------------------------------\u001b[0m",
      "\u001b[0;31mAttributeError\u001b[0m                            Traceback (most recent call last)",
      "Cell \u001b[0;32mIn[2], line 34\u001b[0m\n\u001b[1;32m     31\u001b[0m img3 \u001b[38;5;241m=\u001b[39m cv2\u001b[38;5;241m.\u001b[39mimread(\u001b[38;5;124m\"\u001b[39m\u001b[38;5;124mimages/denoising/median.jpg\u001b[39m\u001b[38;5;124m\"\u001b[39m)\n\u001b[1;32m     32\u001b[0m img4 \u001b[38;5;241m=\u001b[39m cv2\u001b[38;5;241m.\u001b[39mimread(\u001b[38;5;124m\"\u001b[39m\u001b[38;5;124mimages/denoising/nlm.jpg\u001b[39m\u001b[38;5;124m\"\u001b[39m)\n\u001b[0;32m---> 34\u001b[0m orb_similarity \u001b[38;5;241m=\u001b[39m \u001b[43morb_sim\u001b[49m\u001b[43m(\u001b[49m\u001b[43mimg1\u001b[49m\u001b[43m,\u001b[49m\u001b[43m \u001b[49m\u001b[43mimg3\u001b[49m\u001b[43m)\u001b[49m \u001b[38;5;66;03m#1.0 means identical\u001b[39;00m\n\u001b[1;32m     36\u001b[0m \u001b[38;5;28mprint\u001b[39m(\u001b[38;5;124m\"\u001b[39m\u001b[38;5;124mSimilarity using ORB is: \u001b[39m\u001b[38;5;124m\"\u001b[39m, orb_similarity)\n\u001b[1;32m     37\u001b[0m \u001b[38;5;66;03m#Resize for SSIM \u001b[39;00m\n",
      "Cell \u001b[0;32mIn[2], line 11\u001b[0m, in \u001b[0;36morb_sim\u001b[0;34m(img1, img2)\u001b[0m\n\u001b[1;32m      9\u001b[0m \u001b[38;5;66;03m# Detect key points and descriptors\u001b[39;00m\n\u001b[1;32m     10\u001b[0m kp_a, desc_a \u001b[38;5;241m=\u001b[39m orb \u001b[38;5;241m=\u001b[39m orb\u001b[38;5;241m.\u001b[39mdetectAndCompute(img1, \u001b[38;5;28;01mNone\u001b[39;00m)\n\u001b[0;32m---> 11\u001b[0m kp_b, desc_b \u001b[38;5;241m=\u001b[39m orb \u001b[38;5;241m=\u001b[39m \u001b[43morb\u001b[49m\u001b[38;5;241;43m.\u001b[39;49m\u001b[43mdetectAndCompute\u001b[49m(img2, \u001b[38;5;28;01mNone\u001b[39;00m)\n\u001b[1;32m     13\u001b[0m \u001b[38;5;66;03m#Define the bruteforce matcher object\u001b[39;00m\n\u001b[1;32m     14\u001b[0m bf \u001b[38;5;241m=\u001b[39m cv2\u001b[38;5;241m.\u001b[39mBFMatcher(cv2\u001b[38;5;241m.\u001b[39mNORM_HAMMING, crossCheck\u001b[38;5;241m=\u001b[39m\u001b[38;5;28;01mTrue\u001b[39;00m)\n",
      "\u001b[0;31mAttributeError\u001b[0m: 'tuple' object has no attribute 'detectAndCompute'"
     ]
    }
   ],
   "source": [
    "from skimage.metrics import structural_similarity\n",
    "import cv2\n",
    "\n",
    "# Works well with images of different dimensions\n",
    "\n",
    "def orb_sim(img1, img2):\n",
    "    orb = cv2.ORB_create()\n",
    "\n",
    "    # Detect key points and descriptors\n",
    "    kp_a, desc_a = orb = orb.detectAndCompute(img1, None)\n",
    "    kp_b, desc_b = orb = orb.detectAndCompute(img2, None)\n",
    "\n",
    "    #Define the bruteforce matcher object\n",
    "    bf = cv2.BFMatcher(cv2.NORM_HAMMING, crossCheck=True)\n",
    "\n",
    "    #Perform the matches\n",
    "    matches = bf.match(desc_a, desc_b)\n",
    "\n",
    "    similar_regions = [i for i in matches if i.distance < 50]\n",
    "    if len(matches == 0):\n",
    "        return 0\n",
    "    return len(similar_regions) / len(matches)\n",
    "\n",
    "def structural_sim(img1, img2):\n",
    "\n",
    "    sim, diff = structural_similarity(img1, img2, full=True)\n",
    "    return sim\n",
    "\n",
    "img1 = cv2.imread(\"images/denoising/noise.jpg\",0)\n",
    "img2 = cv2.imread(\"images/denoising/gaussian.jpg\",0)\n",
    "img3 = cv2.imread(\"images/denoising/median.jpg\")\n",
    "img4 = cv2.imread(\"images/denoising/nlm.jpg\")\n",
    "\n",
    "orb_similarity = orb_sim(img1, img3) #1.0 means identical\n",
    "\n",
    "print(\"Similarity using ORB is: \", orb_similarity)\n",
    "#Resize for SSIM \n",
    "from skimage.transform import resize\n",
    "img5 = resize(img3, (img1.shape[0], img1.shape[1]), anti_aliasing=True)\n",
    "\n",
    "ssim = structural_sim(img1, img5) \n",
    "print(\"Similarity using SSIM is: \", ssim)"
   ]
  },
  {
   "cell_type": "code",
   "execution_count": null,
   "metadata": {},
   "outputs": [],
   "source": []
  }
 ],
 "metadata": {
  "kernelspec": {
   "display_name": "Python 3",
   "language": "python",
   "name": "python3"
  },
  "language_info": {
   "codemirror_mode": {
    "name": "ipython",
    "version": 3
   },
   "file_extension": ".py",
   "mimetype": "text/x-python",
   "name": "python",
   "nbconvert_exporter": "python",
   "pygments_lexer": "ipython3",
   "version": "3.11.7"
  }
 },
 "nbformat": 4,
 "nbformat_minor": 2
}
