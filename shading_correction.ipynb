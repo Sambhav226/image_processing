{
 "cells": [
  {
   "cell_type": "markdown",
   "metadata": {},
   "source": [
    "# Rolling ball background substraction"
   ]
  },
  {
   "cell_type": "code",
   "execution_count": null,
   "metadata": {},
   "outputs": [],
   "source": [
    "import cv2\n",
    "from cv2_rolling_ball import substract_background_rolling_ball\n",
    "from matplotlib import pyplot as plt\n",
    "\n",
    "img = cv2.imread(\"images/BSE.jpg\")\n",
    "radius = 30\n",
    "final_img, background = substract_background_rolling_ball(img, radius, ligh,\n",
    "                                                          use_paraboloid=False, do_presmooth=True)\n",
    "\n",
    "clahe = cv2.createCLAHE(clipLimit=3, tileGridSize=(8,8))\n",
    "clahe_img = clahe.apply(final_img)\n",
    "\n",
    "cv2.imshow(\"Background image\", background)\n",
    "cv2.imshow(\"After background substraction\", final_img)\n",
    "cv2.imshow(\"After CLAHE\", clahe_img)\n",
    "\n",
    "cv2.waitKey(0)\n",
    "while True:\n",
    "    key = cv2.waitKey(1) & 0xFF\n",
    "    if key == 27: \n",
    "        break\n",
    "cv2.destroyAllWindows()"
   ]
  },
  {
   "cell_type": "code",
   "execution_count": null,
   "metadata": {},
   "outputs": [],
   "source": []
  }
 ],
 "metadata": {
  "kernelspec": {
   "display_name": "Python 3",
   "language": "python",
   "name": "python3"
  },
  "language_info": {
   "codemirror_mode": {
    "name": "ipython",
    "version": 3
   },
   "file_extension": ".py",
   "mimetype": "text/x-python",
   "name": "python",
   "nbconvert_exporter": "python",
   "pygments_lexer": "ipython3",
   "version": "3.11.7"
  }
 },
 "nbformat": 4,
 "nbformat_minor": 2
}
