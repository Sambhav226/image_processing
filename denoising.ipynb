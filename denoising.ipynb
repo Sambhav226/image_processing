{
 "cells": [
  {
   "cell_type": "markdown",
   "metadata": {},
   "source": [
    "# Gaussian and Median Filtering"
   ]
  },
  {
   "cell_type": "code",
   "execution_count": 5,
   "metadata": {},
   "outputs": [],
   "source": [
    "from skimage import io\n",
    "from scipy import ndimage as nd \n",
    "from matplotlib import pyplot as plt\n",
    "\n",
    "img = io.imread(\"images/denoising/noise.jpg\")\n",
    "gussian_img = nd.gaussian_filter(img, sigma=3)\n",
    "\n",
    "plt.imsave(\"images/denoising/gaussian.jpg\",gussian_img)\n",
    "\n",
    "median_img = nd.median_filter(img, size=3)\n",
    "plt.imsave(\"images/denoising/median.jpg\",median_img)"
   ]
  },
  {
   "cell_type": "markdown",
   "metadata": {},
   "source": [
    "# Non Local Denoising"
   ]
  },
  {
   "cell_type": "code",
   "execution_count": 18,
   "metadata": {},
   "outputs": [
    {
     "name": "stderr",
     "output_type": "stream",
     "text": [
      "/var/folders/rh/4qpmbm_s2xz6_r2zbh1h4rkh0000gn/T/ipykernel_29365/1157311153.py:4: UserWarning: image is size 3 on the last axis, but channel_axis is None. If this is a color image, please set channel_axis=-1 for proper noise estimation.\n",
      "  sigma_est = np.mean(estimate_sigma(img))\n"
     ]
    }
   ],
   "source": [
    "import numpy as np\n",
    "from skimage.restoration import denoise_nl_means, estimate_sigma\n",
    "\n",
    "sigma_est = np.mean(estimate_sigma(img))\n",
    "\n",
    "# We can use **arg to open an dictonary instead of writing down all the arguments inside a function\n",
    "\n",
    "# Ex-> patch_kw = dict(patch_size=5,\n",
    "#                      patch_distance=3\n",
    "#                      channel_axis=1)\n",
    "# nlm = denoise_nl_means(img, h=1.5 * sigma_est, fast_mode=True, **patch_kw)\n",
    "\n",
    "nlm = denoise_nl_means(img, h=1.5 * sigma_est, fast_mode=True, patch_size=5, patch_distance=3, channel_axis=1)\n",
    "\n",
    "plt.imsave(\"images/denoising/nlm.jpg\", nlm)\n",
    "\n"
   ]
  },
  {
   "cell_type": "code",
   "execution_count": null,
   "metadata": {},
   "outputs": [],
   "source": []
  }
 ],
 "metadata": {
  "kernelspec": {
   "display_name": "Python 3",
   "language": "python",
   "name": "python3"
  },
  "language_info": {
   "codemirror_mode": {
    "name": "ipython",
    "version": 3
   },
   "file_extension": ".py",
   "mimetype": "text/x-python",
   "name": "python",
   "nbconvert_exporter": "python",
   "pygments_lexer": "ipython3",
   "version": "3.11.7"
  }
 },
 "nbformat": 4,
 "nbformat_minor": 2
}
