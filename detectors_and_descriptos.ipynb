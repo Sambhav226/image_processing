{
 "cells": [
  {
   "cell_type": "markdown",
   "metadata": {},
   "source": [
    "# Feature detection"
   ]
  },
  {
   "cell_type": "code",
   "execution_count": 1,
   "metadata": {},
   "outputs": [],
   "source": [
    "# Harris\n",
    "\n",
    "import cv2\n",
    "import numpy as np\n",
    "img = cv2.imread(\"images/denoising/noise.jpg\")\n",
    "gray = cv2.cvtColor(img, cv2.COLOR_BGR2GRAY)\n",
    "gray = np.float32(gray)\n",
    "\n",
    "harris = cv2.cornerHarris (gray, 2, 3, 0.04)\n",
    "img[harris > 0.01*harris.max()] = [255, 0, 0]\n",
    "cv2.imshow(\"Harris\", img)\n",
    "\n",
    "# Wait for a key press and check if it's the 'ESC' key (27)\n",
    "while True:\n",
    "    key = cv2.waitKey(1) & 0xFF\n",
    "    if key == 27:\n",
    "        break\n",
    "cv2.destroyAllWindows()"
   ]
  },
  {
   "cell_type": "markdown",
   "metadata": {},
   "source": [
    "# Key Points Detectors"
   ]
  },
  {
   "cell_type": "code",
   "execution_count": 2,
   "metadata": {},
   "outputs": [
    {
     "name": "stderr",
     "output_type": "stream",
     "text": [
      "/var/folders/rh/4qpmbm_s2xz6_r2zbh1h4rkh0000gn/T/ipykernel_36949/3678116535.py:10: DeprecationWarning: `np.int0` is a deprecated alias for `np.intp`.  (Deprecated NumPy 1.24)\n",
      "  corners = np.int0(corners)\n"
     ]
    }
   ],
   "source": [
    "# Corners (using good_features_to_track)\n",
    "\n",
    "import cv2\n",
    "import numpy as np\n",
    "\n",
    "img = cv2.imread(\"images/denoising/noise.jpg\")\n",
    "gray = cv2.cvtColor(img, cv2. COLOR_BGR2GRAY)\n",
    "\n",
    "corners = cv2.goodFeaturesToTrack (gray,50,0.01,10)\n",
    "corners = np.int0(corners)\n",
    "\n",
    "for i in corners:\n",
    "    x,y = i.ravel()\n",
    "\n",
    "cv2.circle(img, (x,y), 3,255, -1)\n",
    "cv2.imshow(\"Corners!\", img)\n",
    "\n",
    "# Wait for a key press and check if it's the 'ESC' key (27)\n",
    "while True:\n",
    "    key = cv2.waitKey(1) & 0xFF\n",
    "    if key == 27:\n",
    "        break\n",
    "cv2.destroyAllWindows()"
   ]
  },
  {
   "cell_type": "markdown",
   "metadata": {},
   "source": [
    "# Drawing Key Points"
   ]
  },
  {
   "cell_type": "code",
   "execution_count": 5,
   "metadata": {},
   "outputs": [],
   "source": [
    "import cv2\n",
    "import numpy as np\n",
    "\n",
    "img = cv2.imread(\"images/denoising/noise.jpg\")\n",
    "gray = cv2.cvtColor(img, cv2. COLOR_BGR2GRAY)\n",
    "\n",
    "# Initiate FAST object with default values\n",
    "detector = cv2.FastFeatureDetector_create(50)\n",
    "\n",
    "kp = detector.detect(img, None)\n",
    "\n",
    "img2 = cv2.drawKeypoints(img, kp, None, flags=0)\n",
    "cv2. imshow( 'Corners', img2)\n",
    "# Wait for a key press and check if it's the 'ESC' key (27)\n",
    "while True:\n",
    "    key = cv2.waitKey(1) & 0xFF\n",
    "    if key == 27:\n",
    "        break\n",
    "cv2.destroyAllWindows()"
   ]
  },
  {
   "cell_type": "code",
   "execution_count": 7,
   "metadata": {},
   "outputs": [],
   "source": [
    "import cv2\n",
    "import numpy as np\n",
    "\n",
    "# Correct the file path and remove the extra comma in the filename\n",
    "img = cv2.imread('images/denoising/noise.jpg', 0)\n",
    "\n",
    "orb = cv2.ORB_create(50)\n",
    "\n",
    "kp, des = orb.detectAndCompute(img, None)\n",
    "img2 = cv2.drawKeypoints(img, kp, None, flags=cv2.DRAW_MATCHES_FLAGS_DRAW_RICH_KEYPOINTS)\n",
    "\n",
    "cv2.imshow(\"ORB\", img2)\n",
    "\n",
    "# Wait for a key press and check if it's the 'ESC' key (27)\n",
    "while True:\n",
    "    key = cv2.waitKey(1) & 0xFF\n",
    "    if key == 27:\n",
    "        break\n",
    "\n",
    "cv2.destroyAllWindows()"
   ]
  },
  {
   "cell_type": "code",
   "execution_count": null,
   "metadata": {},
   "outputs": [],
   "source": []
  }
 ],
 "metadata": {
  "kernelspec": {
   "display_name": "Python 3",
   "language": "python",
   "name": "python3"
  },
  "language_info": {
   "codemirror_mode": {
    "name": "ipython",
    "version": 3
   },
   "file_extension": ".py",
   "mimetype": "text/x-python",
   "name": "python",
   "nbconvert_exporter": "python",
   "pygments_lexer": "ipython3",
   "version": "3.11.7"
  }
 },
 "nbformat": 4,
 "nbformat_minor": 2
}
