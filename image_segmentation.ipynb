{
 "cells": [
  {
   "cell_type": "markdown",
   "metadata": {},
   "source": [
    "# Histogram based segmentation"
   ]
  },
  {
   "cell_type": "code",
   "execution_count": 5,
   "metadata": {},
   "outputs": [
    {
     "name": "stderr",
     "output_type": "stream",
     "text": [
      "/opt/homebrew/lib/python3.11/site-packages/skimage/restoration/_denoise.py:1032: UserWarning: image is size 3 on the last axis, but channel_axis is None. If this is a color image, please set channel_axis=-1 for proper noise estimation.\n",
      "  sigmas = [estimate_sigma(\n"
     ]
    },
    {
     "data": {
      "text/plain": [
       "(array([52225.,  4171.,  3393.,  2470.,     0.,  2912.,  2066.,  1763.,\n",
       "         1945.,     0.,  1471.,  1567.,  1258.,  1438.,     0.,  1292.,\n",
       "         1045.,  1164.,   926.,     0.,   985.,   887.,   829.,   763.,\n",
       "            0.,   609.,   629.,   581.,   578.,     0.,   525.,   521.,\n",
       "          486.,   439.,     0.,   386.,   366.,   365.,   356.,     0.,\n",
       "          332.,   314.,   322.,   317.,     0.,   294.,   272.,   264.,\n",
       "          246.,     0.,   245.,   223.,   217.,   183.,     0.,   189.,\n",
       "          178.,   194.,   171.,     0.,   179.,   185.,   166.,   155.,\n",
       "            0.,   185.,   166.,   163.,   166.,     0.,   182.,   182.,\n",
       "          220.,   206.,     0.,   242.,   242.,   287.,   304.,     0.,\n",
       "          340.,   345.,   390.,   419.,     0.,   498.,   470.,   546.,\n",
       "          591.,     0.,   665.,   690.,   788.,   805.,     0.,   808.,\n",
       "          855.,   890.,   818.,   751.]),\n",
       " array([ 0. ,  0.8,  1.6,  2.4,  3.2,  4. ,  4.8,  5.6,  6.4,  7.2,  8. ,\n",
       "         8.8,  9.6, 10.4, 11.2, 12. , 12.8, 13.6, 14.4, 15.2, 16. , 16.8,\n",
       "        17.6, 18.4, 19.2, 20. , 20.8, 21.6, 22.4, 23.2, 24. , 24.8, 25.6,\n",
       "        26.4, 27.2, 28. , 28.8, 29.6, 30.4, 31.2, 32. , 32.8, 33.6, 34.4,\n",
       "        35.2, 36. , 36.8, 37.6, 38.4, 39.2, 40. , 40.8, 41.6, 42.4, 43.2,\n",
       "        44. , 44.8, 45.6, 46.4, 47.2, 48. , 48.8, 49.6, 50.4, 51.2, 52. ,\n",
       "        52.8, 53.6, 54.4, 55.2, 56. , 56.8, 57.6, 58.4, 59.2, 60. , 60.8,\n",
       "        61.6, 62.4, 63.2, 64. , 64.8, 65.6, 66.4, 67.2, 68. , 68.8, 69.6,\n",
       "        70.4, 71.2, 72. , 72.8, 73.6, 74.4, 75.2, 76. , 76.8, 77.6, 78.4,\n",
       "        79.2, 80. ]),\n",
       " <BarContainer object of 100 artists>)"
      ]
     },
     "execution_count": 5,
     "metadata": {},
     "output_type": "execute_result"
    },
    {
     "data": {
      "image/png": "[encoded data removed]",
      "text/plain": [
       "<Figure size 640x480 with 1 Axes>"
      ]
     },
     "metadata": {},
     "output_type": "display_data"
    }
   ],
   "source": [
    "from skimage.restoration import denoise_nl_means, estimate_sigma\n",
    "from skimage import img_as_float, img_as_ubyte\n",
    "from skimage import io\n",
    "import numpy as np\n",
    "from matplotlib import pyplot as plt\n",
    "\n",
    "img = img_as_float(io.imread(\"images/segment.jpg\"))\n",
    "\n",
    "sigma_est = np.mean(estimate_sigma(img, channel_axis=1))\n",
    "\n",
    "#Non local denoising of the image before plotting the histogram fro segmentation\n",
    "patch_kw = dict(patch_size=5,\n",
    "                patch_distance=3,\n",
    "                channel_axis=1)\n",
    "denoise = denoise_nl_means(img, h=1.5 * sigma_est, fast_mode=True, **patch_kw)\n",
    "\n",
    "denoise_ubyte = img_as_ubyte(denoise)\n",
    "plt.hist(denoise_ubyte.flat, bins=100, range=(0,80))\n",
    "\n"
   ]
  }
 ],
 "metadata": {
  "kernelspec": {
   "display_name": "Python 3",
   "language": "python",
   "name": "python3"
  },
  "language_info": {
   "codemirror_mode": {
    "name": "ipython",
    "version": 3
   },
   "file_extension": ".py",
   "mimetype": "text/x-python",
   "name": "python",
   "nbconvert_exporter": "python",
   "pygments_lexer": "ipython3",
   "version": "3.11.7"
  }
 },
 "nbformat": 4,
 "nbformat_minor": 2
}
