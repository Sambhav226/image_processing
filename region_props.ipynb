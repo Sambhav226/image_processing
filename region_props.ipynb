{
 "cells": [
  {
   "cell_type": "markdown",
   "metadata": {},
   "source": [
    "# Measuring properties of labeled/segmented regions"
   ]
  },
  {
   "cell_type": "code",
   "execution_count": null,
   "metadata": {},
   "outputs": [],
   "source": [
    "from skimage import measure, io, img_as_ubyte\n",
    "import matplotlib.pyplot as plt\n",
    "from skimage.color import label2rgb, rgb2gray\n",
    "import numpy as np\n",
    "\n",
    "# The input\n",
    "image = img_as_ubyte(rgb2gray(io.imread(\"\")))\n",
    "\n",
    "from skimage.filters import threshold_otsu\n",
    "threshold = threshold_otsu(image)\n",
    "\n",
    "label_image = measure.labe(image<threshold, connectivity=image.ndim)\n",
    "#plt.imshow(label_image)\n",
    "\n",
    "prpos = measure.regionprops_table(label_image, image,\n",
    "                                properties= ['Label', 'area, equivalent_diameter'\n",
    "                                             'mean_intensity', 'solidity'])\n",
    "\n",
    "import pandas as pd \n",
    "df = pd.DataFrame(props)\n",
    "print(df.head())"
   ]
  }
 ],
 "metadata": {
  "kernelspec": {
   "display_name": "Python 3",
   "language": "python",
   "name": "python3"
  },
  "language_info": {
   "codemirror_mode": {
    "name": "ipython",
    "version": 3
   },
   "file_extension": ".py",
   "mimetype": "text/x-python",
   "name": "python",
   "nbconvert_exporter": "python",
   "pygments_lexer": "ipython3",
   "version": "3.9.6"
  }
 },
 "nbformat": 4,
 "nbformat_minor": 2
}
