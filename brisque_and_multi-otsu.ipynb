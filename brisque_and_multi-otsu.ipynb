{
 "cells": [
  {
   "cell_type": "markdown",
   "metadata": {},
   "source": [
    "# Automatic image quality assesment using BRISQUE"
   ]
  },
  {
   "cell_type": "code",
   "execution_count": null,
   "metadata": {},
   "outputs": [],
   "source": [
    "import numpy as np\n",
    "from skimage import io, img_as_float\n",
    "import imquality. brisque as brisque\n",
    "\n",
    "img = img_as_float(io. imread ( 'images/denoising/noise.jpg', as_gray=True))\n",
    "#img = img_as_float(io.imread(\"noisy_images/BSE_50sigma_noisy.jpg', as_gray=True)\n",
    "\n",
    "score = brisque.score (img)\n",
    "print (\"Brisque score =\", score)"
   ]
  },
  {
   "cell_type": "markdown",
   "metadata": {},
   "source": [
    "# Auto Segmentation using Multi-Otsu "
   ]
  },
  {
   "cell_type": "code",
   "execution_count": null,
   "metadata": {},
   "outputs": [],
   "source": [
    "import matplotlib.pyplot as plt\n",
    "import numpy as np\n",
    "from skimage import data, io, img_as_ubyte\n",
    "from skimage. filters import threshold_multiotsu\n",
    "\n",
    "# Read an image\n",
    "image = io.imread(\"images/BSE.jpg\")\n",
    "\n",
    "thresholds = threshold_multiotsu(image, classes=5)\n",
    "\n",
    "regions = np.digitize(image, bins=thresholds)\n",
    "output = img_as_ubyte(regions)\n",
    "\n",
    "plt. imsave(\"images/Otsu_Segmented.jpg\", output)\n",
    "\n",
    "#Let us look at the input image, thresholds on thehistogram and final segmented\n",
    "fig, ax = plt.subplots(nrows=1, ncols=3, figsize=(10, 3.5))\n",
    "\n",
    "# Plotting the original image.\n",
    "ax[0].imshow(image, cmap='gray')\n",
    "ax[0].set_title('Original')\n",
    "ax[0].axis('off')\n",
    "\n",
    "# Plotting the histogram and the two thresholds obtained from\n",
    "# multi-Otsu.\n",
    "ax[1].hist(image.ravel(), bins=255)\n",
    "ax[1]. set_title( 'Histogram')\n",
    "\n",
    "for thresh in thresholds:\n",
    "    ax[1].axvline(thresh, color='r')\n",
    "\n",
    "# Plotting the Multi Otsu result.\n",
    "ax[2].imshow(regions, cma='Accent')\n",
    "ax[2].set_title( 'Multi-Otsu result')\n",
    "ax[2].axis('off')\n",
    "\n",
    "plt.subplots_adjust()\n",
    "\n",
    "plt.show()"
   ]
  }
 ],
 "metadata": {
  "language_info": {
   "name": "python"
  }
 },
 "nbformat": 4,
 "nbformat_minor": 2
}
