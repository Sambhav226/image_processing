{
 "cells": [
  {
   "cell_type": "markdown",
   "metadata": {},
   "source": [
    "# Denoising MRI Images"
   ]
  },
  {
   "cell_type": "markdown",
   "metadata": {},
   "source": [
    "Commonly used filters \n",
    "* Bilateral \n",
    "* Non Local means\n",
    "* Block matching 3D filtering (BM3D)"
   ]
  },
  {
   "cell_type": "code",
   "execution_count": null,
   "metadata": {},
   "outputs": [],
   "source": [
    "from skimage import img_as_float, io\n",
    "from skimage.metrics import peak_signal_noise_ratio\n",
    "from matplotlib import pyplot as plt\n",
    "from scipy import ndimage as nd\n",
    "\n",
    "noisy_img = img_as_float(io.imread(\"\"))\n",
    "ref_img = img_as_float(io.imread(\"\"))\n",
    "\n",
    "from skimage.restoration import (denoise_tv_chambolle, denoise_bilateral, denoise_wavelet, estimate_sigma)\n",
    "\n",
    "denoise_TV = denoise_tv_chambolle(peak_signal_noise_ratio, weight=0.3, channel_axis=False)\n",
    "noise_psnr = peak_signal_noise_ratio(ref_img, noisy_img)\n",
    "TV_cleaned_psnr = peak_signal_noise_ratio(ref_img, denoise_TV)\n",
    "\n",
    "print(\"PSNR of input image = \", noise_psnr)\n",
    "print(\"PSNR of cleaned image = \", TV_cleaned_psnr)\n",
    "plt.save(\"images/mri/tv_smoothed.tif\", denoise_TV, cmap='gray')\n"
   ]
  },
  {
   "cell_type": "markdown",
   "metadata": {},
   "source": [
    "Wavelet Filter -> same code as above"
   ]
  },
  {
   "cell_type": "code",
   "execution_count": null,
   "metadata": {},
   "outputs": [],
   "source": [
    "walvelet_smoothed = denoise_wavelet(noisy_img, channel_axis=False, \n",
    "                                    method='BayesShrink', mode='soft', rescale_sigme=True)\n",
    "\n",
    "noise_psnr = peak_signal_noise_ratio(ref_img, noisy_img)\n",
    "walvelet_cleaned_psnr = peak_signal_noise_ratio(ref_img, walvelet_smoothed)\n",
    "\n",
    "print(\"PSNR of input image = \", noise_psnr)\n",
    "print(\"PSNR of cleaned image = \", walvelet_cleaned_psnr)"
   ]
  },
  {
   "cell_type": "markdown",
   "metadata": {},
   "source": [
    "Anisotropic Diffusion"
   ]
  },
  {
   "cell_type": "code",
   "execution_count": null,
   "metadata": {},
   "outputs": [],
   "source": [
    "from medpy.filter.smoothing import anisotropic_diffusion\n",
    "\n",
    "img_aniso_filtered = anisotropic_diffusion(noisy_img, niter=50, kappa=50, gamma=0.2, option=2)\n",
    "\n",
    "noise_psnr = peak_signal_noise_ratio(ref_img, noisy_img)\n",
    "aniso_cleaned_psnr = peak_signal_noise_ratio(ref_img, img_aniso_filtered)\n",
    "\n",
    "print(\"PSNR of input image = \", noise_psnr)\n",
    "print(\"PSNR of cleaned image = \", aniso_cleaned_psnr)\n",
    "\n",
    "plt.imshow(img_aniso_filtered, cmap='gray')\n",
    "plt.imsave(\"images/mri/anisotropic_denoised.tif\", img_aniso_filtered, cmap='gray')"
   ]
  },
  {
   "cell_type": "markdown",
   "metadata": {},
   "source": [
    "Non Local Means filter"
   ]
  },
  {
   "cell_type": "code",
   "execution_count": null,
   "metadata": {},
   "outputs": [],
   "source": [
    "from skimage import img_as_ubyte\n",
    "\n",
    "sigma_est = np.mean(estimate_sigma(noisy_img, channel_axis=False))\n",
    "\n",
    "NLM_skimg_denoise_img = denoise_nl_means(noisy_img, h=1.15 * sigma_est, fast_mode=True,\n",
    "                                         patch_size=9, patch_distance=5, channel_axis=True)\n",
    "\n",
    "noise_psnr = peak_signal_noise_ratio(ref_img, noisy_img)\n",
    "NLM_skimg_cleaned_psnr = peak_signal_noise_ratio(ref_img, NLM_skimg_denoise_img)\n",
    "\n",
    "print(\"PSNR of input noisy image = \", noise_psnr)\n",
    "print(\"PSNR of cleaned image = \", NLM_skimg_cleaned_psnr)\n",
    "\n",
    "denoise_img_as_8byte = img_as_ubyte(NLM_skimg_denoise_img)\n",
    "\n",
    "plt.imsave(\"images/mri/NLM_skimage_denoised.tif\", denoise_img_as_8byte, cmap='gray')\n"
   ]
  },
  {
   "cell_type": "markdown",
   "metadata": {},
   "source": [
    "OpenCv implementation"
   ]
  },
  {
   "cell_type": "code",
   "execution_count": null,
   "metadata": {},
   "outputs": [],
   "source": [
    "import numpy as np \n",
    "import cv2\n",
    "\n",
    "noise_psnr = peak_signal_noise_ratio(ref_img, noisy_img)\n",
    "NLM_CV2_denoise_img = cv2.fastNlMeansDenoising(noisy_img, None, 3, 7, 21)\n",
    "\n",
    "plt.imsave(\"images/mri/NLM_CV2_denoised.tif\", NLM_CV2_denoise_img, cmap='gray')\n",
    "plt.imshow(\"images/mri/NLM_CV2_denoised.tif\", NLM_CV2_denoise_img)\n"
   ]
  },
  {
   "cell_type": "markdown",
   "metadata": {},
   "source": [
    "Block matching 3D filtering (BM3D)"
   ]
  },
  {
   "cell_type": "code",
   "execution_count": null,
   "metadata": {},
   "outputs": [],
   "source": [
    "import bm3d\n",
    "\n",
    "BM3D_denoised_img = bm3d.bm3d(noisy_img, sigma_psd=0.2, stage_arg=bm3d.BM3DStages)\n",
    "\n",
    "noise_psnr = peak_signal_noise_ratio(ref_img, noisy_img)\n",
    "BM3D_cleaned_psnr= peak_signal_noise_ratio(ref_img, BM3D_denoised_img)\n",
    "\n",
    "print(\"PSNR of noisy input image = \", noise_psnr)\n",
    "print(\"PSNR of cleaned image = \", BM3D_cleaned_psnr)\n",
    "\n",
    "plt.imshow(BM3D_denoised_img, cmap='gray')\n",
    "plt.imsave(\"images/mri/BM3D_denoised.tif\", BM3D_denoised_img, cmap='gray')"
   ]
  },
  {
   "cell_type": "markdown",
   "metadata": {},
   "source": []
  }
 ],
 "metadata": {
  "kernelspec": {
   "display_name": "Python 3",
   "language": "python",
   "name": "python3"
  },
  "language_info": {
   "codemirror_mode": {
    "name": "ipython",
    "version": 3
   },
   "file_extension": ".py",
   "mimetype": "text/x-python",
   "name": "python",
   "nbconvert_exporter": "python",
   "pygments_lexer": "ipython3",
   "version": "3.11.7"
  }
 },
 "nbformat": 4,
 "nbformat_minor": 2
}
