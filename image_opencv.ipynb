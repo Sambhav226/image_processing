{
 "cells": [
  {
   "cell_type": "code",
   "execution_count": 1,
   "metadata": {},
   "outputs": [
    {
     "ename": "",
     "evalue": "",
     "output_type": "error",
     "traceback": [
      "\u001b[1;31mThe Kernel crashed while executing code in the the current cell or a previous cell. Please review the code in the cell(s) to identify a possible cause of the failure. Click <a href='https://aka.ms/vscodeJupyterKernelCrash'>here</a> for more info. View Jupyter <a href='command:jupyter.viewOutput'>log</a> for further details."
     ]
    }
   ],
   "source": [
    "import cv2\n",
    "\n",
    "img = cv2.imread(\"images/R1.jpg\", 1)\n",
    "\n",
    "resized = cv2.resize(img, None, fx=2,fy=2, interpolation=cv2.INTER_CUBIC)\n",
    "cv2.imshow(\"Original Image\", img)\n",
    "cv2.imshow(\"Resized Image\", resized)\n",
    "cv2.waitKey(0)\n",
    "cv2.destroyAllWindows()"
   ]
  },
  {
   "cell_type": "markdown",
   "metadata": {},
   "source": [
    "# Filters"
   ]
  },
  {
   "cell_type": "code",
   "execution_count": 1,
   "metadata": {},
   "outputs": [
    {
     "ename": "",
     "evalue": "",
     "output_type": "error",
     "traceback": [
      "\u001b[1;31mThe Kernel crashed while executing code in the the current cell or a previous cell. Please review the code in the cell(s) to identify a possible cause of the failure. Click <a href='https://aka.ms/vscodeJupyterKernelCrash'>here</a> for more info. View Jupyter <a href='command:jupyter.viewOutput'>log</a> for further details."
     ]
    }
   ],
   "source": [
    "import cv2 \n",
    "import numpy as np \n",
    "from matplotlib import pyplot as plt\n",
    "\n",
    "img = cv2.imread(\"images/denoising/noise.jpg\", 1)\n",
    "kernel = np.ones((3,3), np.float32)/9\n",
    "filt_2D = cv2.filter2D(img, -1, kernel)\n",
    "blur = cv2.blur(img, (3,3))\n",
    "gaussian_blur = cv2.GaussianBlur(img, (3,3), 0)\n",
    "median_blur = cv2.medianBlur(img, 3)\n",
    "bilateral_blur = cv2.bilateralFilter(img, 9, 75, 75)\n",
    "\n",
    "cv2.imshow(\"Original\", img)\n",
    "cv2.imshow(\"Median Filter\", median_blur)\n",
    "cv2.imshow(\"Bilateral Filter\", bilateral_blur)\n",
    "cv2.imshow(\"Original\", img)\n",
    "\n",
    "cv2.waitKey(0)\n",
    "cv2.destroyAllWindows()\n"
   ]
  },
  {
   "cell_type": "code",
   "execution_count": null,
   "metadata": {},
   "outputs": [],
   "source": []
  }
 ],
 "metadata": {
  "kernelspec": {
   "display_name": "Python 3",
   "language": "python",
   "name": "python3"
  },
  "language_info": {
   "codemirror_mode": {
    "name": "ipython",
    "version": 3
   },
   "file_extension": ".py",
   "mimetype": "text/x-python",
   "name": "python",
   "nbconvert_exporter": "python",
   "pygments_lexer": "ipython3",
   "version": "3.11.7"
  }
 },
 "nbformat": 4,
 "nbformat_minor": 2
}
