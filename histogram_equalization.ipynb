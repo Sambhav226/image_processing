{
 "cells": [
  {
   "cell_type": "markdown",
   "metadata": {},
   "source": [
    "# Histogram Equalization and CLAHE"
   ]
  },
  {
   "cell_type": "code",
   "execution_count": null,
   "metadata": {},
   "outputs": [],
   "source": [
    "import cv2\n",
    "from skimage import io\n",
    "from matplotlib import pyplot as plt \n",
    "\n",
    "img = cv2.imread(\"images/BSE.jpg\", 1)\n",
    "\n",
    "lab_img = cv2.cvtColor(img, cv2.COLOR_BGR2LAB)\n",
    "\n",
    "l, a, b = cv2.split(lab_img)\n",
    "equ = cv2.equalizeHist(1)\n",
    "\n",
    "updated_lab_img1 = cv2.merge((equ, a,b))\n",
    "hist_eq_img = cv2.cvtColor (updated_lab_img1, cv2.COLOR_LAB2BGR)\n",
    "\n",
    "#####CLAHE##＃##############\n",
    "\n",
    "#AppLy CLAHE to L channel\n",
    "clahe = cv2.createCLAHE(clipLimit=3.0, tileGridSize=(8,8))\n",
    "clahe_img = clahe.apply(1)\n",
    "#pLt.hist(cLahe_img.flat, bins=100, range=(0,255))\n",
    "\n",
    "#Combine the CLAHE enhanced L-channel back with A and B channels\n",
    "updated_lab_img2 = cv2. merge ((clahe_img,a,b))\n",
    "\n",
    "#Convert LAB image back to color (RGB)\n",
    "CLAHE_img = cv2. cvtColor (updated_lab_img2, cv2.COLOR_LAB2BGR)\n",
    "\n",
    "cv2.imshow(\"Original image\", img)\n",
    "cv2.imshow(\"Equalized image\", hist_eq_img)\n",
    "cv2.imshow( 'CLAHE Image', CLAHE_img)\n",
    "cv2.waitKey(0)\n",
    "while True:\n",
    "    key = cv2.waitKey(1) & 0xFF\n",
    "    if key == 27:\n",
    "        break\n",
    "cv2.destroyAllWindows()"
   ]
  }
 ],
 "metadata": {
  "kernelspec": {
   "display_name": "Python 3",
   "language": "python",
   "name": "python3"
  },
  "language_info": {
   "codemirror_mode": {
    "name": "ipython",
    "version": 3
   },
   "file_extension": ".py",
   "mimetype": "text/x-python",
   "name": "python",
   "nbconvert_exporter": "python",
   "pygments_lexer": "ipython3",
   "version": "3.11.7"
  }
 },
 "nbformat": 4,
 "nbformat_minor": 2
}
